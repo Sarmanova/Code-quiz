{
  "nbformat": 4,
  "nbformat_minor": 0,
  "metadata": {
    "colab": {
      "name": "Learn Python 2021-08.ipynb",
      "provenance": [],
      "collapsed_sections": [],
      "include_colab_link": true
    },
    "kernelspec": {
      "name": "python3",
      "display_name": "Python 3"
    }
  },
  "cells": [
    {
      "cell_type": "markdown",
      "metadata": {
        "id": "view-in-github",
        "colab_type": "text"
      },
      "source": [
        "<a href=\"https://colab.research.google.com/github/Sarmanova/Code-quiz/blob/main/Learn_Python_2021_08.ipynb\" target=\"_parent\"><img src=\"https://colab.research.google.com/assets/colab-badge.svg\" alt=\"Open In Colab\"/></a>"
      ]
    },
    {
      "cell_type": "markdown",
      "metadata": {
        "id": "2W6KbAGS6ZVn"
      },
      "source": [
        "# Women Who Code Austin 🐍 Learn Python! 🐍 2021/08/18\n",
        "------\n",
        "\n"
      ]
    },
    {
      "cell_type": "markdown",
      "metadata": {
        "id": "LrYM_N_YWsnk"
      },
      "source": [
        "# Trees 🌳 \n",
        "\n",
        "## Why do we need trees?\n",
        "Some data are naturally shaped like a tree. For example, a file system, or an org chart:\n",
        "![org chart](https://drive.google.com/uc?export=view&id=1gOK20GhOWa21UcQeQqfSyCNDSxsjtLT8)\n",
        "\n",
        "## What is a tree?\n",
        "A tree has:\n",
        "* Nodes: the data we try to organize. Have only 1 parent, except for the root node\n",
        "* A root: the node that doesn't have a parent\n",
        "\n",
        "## How do we represent a tree with code?\n",
        "First we define the nodes. Each node needs the following info:\n",
        "* the actual data\n",
        "* the children nodes\n",
        "```python\n",
        "class Node:\n",
        "  def __init__(self, data, childred = []):\n",
        "    self.data = data\n",
        "    self.children = childred # a list of other Node instances\n",
        "``` \n",
        "The only thing we need for a tree is the root!\n",
        "```python\n",
        "class Tree:\n",
        "  def __init__(self, root):\n",
        "    self.root = root\n",
        "```\n",
        "since we know the childred, we can get to all other nodes via **tree triversal**.\n",
        "\n",
        "## Tree triversal\n",
        "\n",
        "There are 2 ways to get to all the nodes in a tree:\n",
        "* depth first: talk to the nodes' children first\n",
        "* breadth first: talk to the nodes on the same level first\n",
        "\n",
        "\n",
        "\n",
        "## Specific trees\n",
        "* binary search tree\n",
        "* trie\n",
        "* heap\n",
        "* and more\n",
        "\n"
      ]
    },
    {
      "cell_type": "markdown",
      "metadata": {
        "id": "a5TzXYiIGcHV"
      },
      "source": [
        "## Let's go through an example!\n",
        "\n",
        "\n"
      ]
    },
    {
      "cell_type": "code",
      "metadata": {
        "colab": {
          "base_uri": "https://localhost:8080/"
        },
        "id": "1ZynE_jHA2bZ",
        "outputId": "1a58e61a-9186-4e14-98c9-5fe18527e1f9"
      },
      "source": [
        "class Node:\n",
        "  def __init__(self, title, name, direct_reports = []):\n",
        "    self.title = title\n",
        "    self.name = name\n",
        "    self.children = direct_reports\n",
        "\n",
        "class Tree:\n",
        "  def __init__(self, root):\n",
        "    self.root = root\n",
        "\n",
        "fe_eng = Node(\"Front End Engineer\", \"Hipster Dude\")\n",
        "be_eng = Node(\"Back End Engineer\", \"Hippie Sister\")\n",
        "vp_eng = Node(\"VP of Engineering\", \"Elegant Queen\", [fe_eng, be_eng])\n",
        "vp_ppl = Node(\"VP of People\", \"Cool Lady\")\n",
        "ceo = Node(\"CEO\", \"Badass Grandma\", [vp_eng, vp_ppl])\n",
        "org_chart = Tree(ceo)\n"
      ],
      "execution_count": null,
      "outputs": [
        {
          "output_type": "stream",
          "text": [
            "Badass Grandma\n"
          ],
          "name": "stdout"
        }
      ]
    },
    {
      "cell_type": "markdown",
      "metadata": {
        "id": "rtcS28ZKBNhY"
      },
      "source": [
        "## Breadth first search"
      ]
    },
    {
      "cell_type": "code",
      "metadata": {
        "colab": {
          "base_uri": "https://localhost:8080/"
        },
        "id": "9MQWHkRTBRlk",
        "outputId": "a6b06b2f-b3b1-4d53-99f6-5a3dd05dbf27"
      },
      "source": [
        "def breadth_first_search(tree):\n",
        "  to_talk_to = set([tree.root])\n",
        "  while len(to_talk_to) > 0:\n",
        "    person = to_talk_to.pop()\n",
        "    # First, get people's title and names\n",
        "    print(\"-----\")\n",
        "    print(person.title)\n",
        "    print(person.name)\n",
        "    # Then, write down all their direct reports, so we can go ask these people later!\n",
        "    for c in person.children:\n",
        "      to_talk_to.add(c)\n",
        "\n",
        "breadth_first_search(org_chart)\n"
      ],
      "execution_count": null,
      "outputs": [
        {
          "output_type": "stream",
          "text": [
            "-----\n",
            "CEO\n",
            "Badass Grandma\n",
            "-----\n",
            "VP of People\n",
            "Cool Lady\n",
            "-----\n",
            "VP of Engineering\n",
            "Elegant Queen\n",
            "-----\n",
            "Back End Engineer\n",
            "Hippie Sister\n",
            "-----\n",
            "Front End Engineer\n",
            "Hipster Dude\n"
          ],
          "name": "stdout"
        }
      ]
    },
    {
      "cell_type": "markdown",
      "metadata": {
        "id": "VxOgdzhkCGrG"
      },
      "source": [
        "Depth First Search"
      ]
    },
    {
      "cell_type": "code",
      "metadata": {
        "colab": {
          "base_uri": "https://localhost:8080/"
        },
        "id": "F7-eKntaCKM6",
        "outputId": "23636d32-ba68-4430-e47d-df94555f5867"
      },
      "source": [
        "def depth_first_search(person):\n",
        "  # First, get people's title and names \n",
        "  print(\"-----\")\n",
        "  print(person.title)\n",
        "  print(person.name)\n",
        "  # Then, get their direct report, and repeat this process!\n",
        "  for p in person.children:\n",
        "    depth_first_search(p)\n",
        "\n",
        "depth_first_search(org_chart.root)"
      ],
      "execution_count": null,
      "outputs": [
        {
          "output_type": "stream",
          "text": [
            "-----\n",
            "CEO\n",
            "Badass Grandma\n",
            "-----\n",
            "VP of Engineering\n",
            "Elegant Queen\n",
            "-----\n",
            "Front End Engineer\n",
            "Hipster Dude\n",
            "-----\n",
            "Back End Engineer\n",
            "Hippie Sister\n",
            "-----\n",
            "VP of People\n",
            "Cool Lady\n"
          ],
          "name": "stdout"
        }
      ]
    },
    {
      "cell_type": "markdown",
      "metadata": {
        "id": "wDnWalgRDu13"
      },
      "source": [
        "# Whiteboarding Demo\n",
        "\n",
        "Whiteboarding is a special skill - being bad at whiteboarding does NOT mean you are not a good programmer. \n",
        "\n",
        "Like other skills, there are tricks to make it easier, and you can practice to improve it!\n",
        "\n",
        "## Whiteboarding process\n",
        "### Prepare to code\n",
        "* Clarify the problem\n",
        "* Work on an example\n",
        "* Write down mental model\n",
        "\n",
        "### Actual Code\n",
        "* Translate pseudo code to Python code\n",
        "\n",
        "### Validate\n",
        "* Test edge cases\n",
        "* Analyze space - time complexity\n",
        "* Optimize\n"
      ]
    },
    {
      "cell_type": "markdown",
      "metadata": {
        "id": "boHEUyhDCWxe"
      },
      "source": [
        "#### Remove extra edge\n",
        "Given a binary tree, where an arbitary node has 2 parents i.e two nodes in the tree have the same child. Identify the defective node and remove an extra edge to fix the tree.\n",
        "\n",
        "\n",
        "\n",
        "Example 1:\n",
        "Input:\n",
        "```\n",
        "\t   1\n",
        "\t  / \\\n",
        "\t 2   3\n",
        "\t/ \\ /\n",
        "   4   5\n",
        "```\n",
        "\n",
        "Output:\n",
        "```\n",
        "     1\t\t\t       1\n",
        "    / \\\t\t\t      / \\\n",
        "   2   3    or\t     2   3\n",
        "  / \\ \t\t\t    /   /\n",
        " 4   5\t\t       4   5\n",
        "```\n",
        "Explanation: We can remove either 3-5 or 2-5.\n",
        "\n",
        "(From https://leetcode.com/discuss/interview-question/358676/google-remove-extra-edge)"
      ]
    },
    {
      "cell_type": "markdown",
      "metadata": {
        "id": "zSiGdzzRJpJJ"
      },
      "source": [
        "## Prepare to code - clarify the problem\n",
        "What is the input? What is the output? What does it mean to have extra edge?"
      ]
    },
    {
      "cell_type": "code",
      "metadata": {
        "colab": {
          "base_uri": "https://localhost:8080/"
        },
        "id": "PXUyfiTHluTz",
        "outputId": "ccfed793-1628-4135-eee3-7d130ac84859"
      },
      "source": [
        "def remove_extra_edge(tree):\n",
        "  return tree\n",
        "\n",
        "class Tree:\n",
        "  def __init__(self, root):\n",
        "    self.root = root\n",
        "\n",
        "  def __str__(self):\n",
        "    queue = [self.root]\n",
        "    out = ''\n",
        "    while len(queue) > 0:\n",
        "      node = queue[0]\n",
        "      queue = queue[1:]\n",
        "      if node.left:\n",
        "        queue.append(node.left)\n",
        "      if node.right:\n",
        "        queue.append(node.right)\n",
        "      out += str(node) + '\\n'\n",
        "    return out\n",
        "\n",
        "\n",
        "class Node:\n",
        "  def __init__(self, val, left, right):\n",
        "    self.val = val\n",
        "    self.left = left\n",
        "    self.right = right\n",
        "  \n",
        "  def __str__(self):\n",
        "    left = 'None'\n",
        "    if self.left:\n",
        "      left = self.left.val\n",
        "    right = 'None'\n",
        "    if self.right:\n",
        "      left = self.right.val\n",
        "    return f'{self.val}, left = {left}, right = {right}' \n",
        "\n",
        "n4 = Node(4, None, None)\n",
        "n5 = Node(5, None, None)\n",
        "n2 = Node(2, n4, n5)\n",
        "n3 = Node(3, n5, None)\n",
        "n1 = Node(1, n2, n3)\n",
        "tree = Tree(n1)\n",
        "print(tree)"
      ],
      "execution_count": null,
      "outputs": [
        {
          "output_type": "stream",
          "text": [
            "Node val: 1, left: 2, right: 3\n",
            "Node val: 2, left: 4, right: 5\n",
            "Node val: 3, left: 5, right: None\n",
            "Node val: 4, left: None, right: None\n",
            "Node val: 5, left: None, right: None\n",
            "Node val: 5, left: None, right: None\n",
            "\n"
          ],
          "name": "stdout"
        }
      ]
    },
    {
      "cell_type": "markdown",
      "metadata": {
        "id": "23JFd9uVSRsI"
      },
      "source": [
        "# Prepare to code - write down mental model, breadth search method\n",
        "\n",
        "1. We would need to go through each node. Since we are doing breadth first search, we will start a queue. \n",
        "1. When we are looking at a node, we need to fo the following:\n",
        "* Record that we've seen this node\n",
        "* Check the left node: if we've seen this node, set the left node to None. If not, put the left node to the queue\n",
        "* Do the same for the right node\n"
      ]
    },
    {
      "cell_type": "markdown",
      "metadata": {
        "id": "j2SLNU_wjbLs"
      },
      "source": [
        "## Translate mental model to code!\n",
        "\n"
      ]
    },
    {
      "cell_type": "code",
      "metadata": {
        "id": "-B322NcDjeup",
        "colab": {
          "base_uri": "https://localhost:8080/"
        },
        "outputId": "d6ad0b47-49b9-4bb6-a285-ddd0dcf0b05d"
      },
      "source": [
        "def remove_bfs(tree):\n",
        "  seen = set()\n",
        "  queue = set([tree.root])\n",
        "  while len(queue) > 0:\n",
        "    node = queue.pop()\n",
        "    seen.add(node)\n",
        "    if node.left:\n",
        "      if node.left in seen:\n",
        "        node.left = None\n",
        "      else:\n",
        "        queue.add(node.left)\n",
        "\n",
        "    if node.right:\n",
        "      if node.right in seen:\n",
        "        node.right = None\n",
        "      else:\n",
        "        queue.add(node.right)\n",
        "  return tree\n"
      ],
      "execution_count": null,
      "outputs": [
        {
          "output_type": "stream",
          "text": [
            "1, left = 2, right = 3\n",
            "2, left = 4, right = 5\n",
            "3, left = 5, right = None\n",
            "4, left = None, right = None\n",
            "5, left = None, right = None\n",
            "5, left = None, right = None\n",
            "\n",
            "1, left = 2, right = 3\n",
            "2, left = 4, right = 5\n",
            "3, left = None, right = None\n",
            "4, left = None, right = None\n",
            "5, left = None, right = None\n",
            "\n"
          ],
          "name": "stdout"
        }
      ]
    },
    {
      "cell_type": "markdown",
      "metadata": {
        "id": "kDozDlznqJEm"
      },
      "source": [
        "## Verify"
      ]
    },
    {
      "cell_type": "code",
      "metadata": {
        "id": "hLQBwWGTsx7P",
        "colab": {
          "base_uri": "https://localhost:8080/"
        },
        "outputId": "f9c7da78-0276-4214-e503-6759ec904d46"
      },
      "source": [
        "print(tree)\n",
        "remove_bfs(tree)\n",
        "print(tree)"
      ],
      "execution_count": null,
      "outputs": [
        {
          "output_type": "stream",
          "text": [
            "True\n"
          ],
          "name": "stdout"
        }
      ]
    },
    {
      "cell_type": "markdown",
      "metadata": {
        "id": "DAWNMN7effIb"
      },
      "source": [
        "# Complexity analysis\n",
        "\n",
        "If there are N nodes, we look at each of them 1 time. The time complexity is O(N)\n"
      ]
    },
    {
      "cell_type": "markdown",
      "metadata": {
        "id": "rF3I9CmWncsE"
      },
      "source": [
        "## depth first search\n"
      ]
    },
    {
      "cell_type": "code",
      "metadata": {
        "id": "8eP3zdoSna5s"
      },
      "source": [
        "def remove_extra_node(tree):\n",
        "  return remove_dfs(tree.root, set())\n",
        "\n",
        "def remove_dfs(node, seen):\n",
        "  if node is not None:\n",
        "    if node in seen:\n",
        "      return None\n",
        "    else: \n",
        "      seen.add(node)\n",
        "      node.left = remove(node.left, seen)\n",
        "      node.right = remove(node.right, seen)\n",
        "      return node"
      ],
      "execution_count": null,
      "outputs": []
    }
  ]
}